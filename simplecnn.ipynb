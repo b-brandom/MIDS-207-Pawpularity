{
 "cells": [
  {
   "cell_type": "code",
   "execution_count": 1,
   "metadata": {},
   "outputs": [
    {
     "name": "stdout",
     "output_type": "stream",
     "text": [
      "GPU is available\n"
     ]
    }
   ],
   "source": [
    "import numpy as np\n",
    "from matplotlib import pyplot as plt\n",
    "import pandas as pd\n",
    "import seaborn as sns  # for nicer plots\n",
    "sns.set(style=\"darkgrid\")  # default style\n",
    "import os\n",
    "\n",
    "from sklearn.model_selection import train_test_split\n",
    "\n",
    "import tensorflow as tf\n",
    "\n",
    "gpu = len(tf.config.list_physical_devices('GPU'))>0\n",
    "print(\"GPU is\", \"available\" if gpu else \"NOT AVAILABLE\")"
   ]
  },
  {
   "cell_type": "code",
   "execution_count": 2,
   "metadata": {},
   "outputs": [],
   "source": [
    "train_images = os.listdir('petfinder-pawpularity-score/train')\n",
    "train_df = pd.read_csv('petfinder-pawpularity-score/train.csv')\n",
    "train_df = train_df.set_index('Id')\n",
    "\n",
    "file_names = []\n",
    "labels = []\n",
    "\n",
    "for index in train_df.index:\n",
    "    file_name = 'petfinder-pawpularity-score/train/' + index + '.jpg'\n",
    "    label = train_df.loc[index]['Pawpularity']\n",
    "    file_names.append(file_name)\n",
    "    labels.append(label/1.0)\n",
    "\n"
   ]
  },
  {
   "cell_type": "code",
   "execution_count": 3,
   "metadata": {},
   "outputs": [],
   "source": [
    "train_files, val_files, labels_train, labels_val = train_test_split(file_names, labels, test_size=0.2, random_state=125)"
   ]
  },
  {
   "cell_type": "code",
   "execution_count": 4,
   "metadata": {},
   "outputs": [
    {
     "name": "stderr",
     "output_type": "stream",
     "text": [
      "2024-03-25 10:45:56.108979: I metal_plugin/src/device/metal_device.cc:1154] Metal device set to: Apple M1\n",
      "2024-03-25 10:45:56.109003: I metal_plugin/src/device/metal_device.cc:296] systemMemory: 16.00 GB\n",
      "2024-03-25 10:45:56.109010: I metal_plugin/src/device/metal_device.cc:313] maxCacheSize: 5.33 GB\n",
      "2024-03-25 10:45:56.109041: I tensorflow/core/common_runtime/pluggable_device/pluggable_device_factory.cc:306] Could not identify NUMA node of platform GPU ID 0, defaulting to 0. Your kernel may not have been built with NUMA support.\n",
      "2024-03-25 10:45:56.109058: I tensorflow/core/common_runtime/pluggable_device/pluggable_device_factory.cc:272] Created TensorFlow device (/job:localhost/replica:0/task:0/device:GPU:0 with 0 MB memory) -> physical PluggableDevice (device: 0, name: METAL, pci bus id: <undefined>)\n"
     ]
    }
   ],
   "source": [
    "def process_file_names_train(file_name, label):\n",
    "    image_string = tf.io.read_file(file_name)\n",
    "    img = tf.io.decode_jpeg(image_string, channels=3)\n",
    "    img = tf.image.resize(img, [28,28])\n",
    "    return img, label\n",
    "\n",
    "def process_file_names_val(file_name, label):\n",
    "    image_string = tf.io.read_file(file_name)\n",
    "    img = tf.io.decode_jpeg(image_string, channels=3)\n",
    "    img = tf.image.resize(img, [28,28])\n",
    "    return img, label\n",
    "\n",
    "train_dataset = tf.data.Dataset.from_tensor_slices((train_files, labels_train))\n",
    "train_dataset = train_dataset.map(process_file_names_train)\n",
    "\n",
    "val_dataset = tf.data.Dataset.from_tensor_slices((val_files, labels_val))\n",
    "val_dataset = val_dataset.map(process_file_names_val)"
   ]
  },
  {
   "cell_type": "code",
   "execution_count": 5,
   "metadata": {},
   "outputs": [],
   "source": [
    "def configure_for_performance(ds):\n",
    "    ds = ds.cache()\n",
    "    ds = ds.shuffle(buffer_size=1000)\n",
    "    ds = ds.batch(16)\n",
    "    return ds\n",
    "\n",
    "train_dataset = configure_for_performance(train_dataset)\n",
    "\n",
    "val_dataset = configure_for_performance(val_dataset)"
   ]
  },
  {
   "cell_type": "code",
   "execution_count": 6,
   "metadata": {},
   "outputs": [],
   "source": [
    "# building the model\n",
    "cnn_model = tf.keras.Sequential([\n",
    "    tf.keras.layers.BatchNormalization(input_shape=[28, 28, 3], axis=1),\n",
    "    tf.keras.layers.Conv2D(filters=16, kernel_size=3, activation='relu'),\n",
    "    tf.keras.layers.Dropout(0.2),\n",
    "    tf.keras.layers.BatchNormalization(axis=1),\n",
    "    tf.keras.layers.Conv2D(filters=32, kernel_size=5, activation='relu'),\n",
    "    tf.keras.layers.Dropout(0.2),\n",
    "    tf.keras.layers.BatchNormalization(axis=1),\n",
    "    tf.keras.layers.Conv2D(filters=64, kernel_size=7, activation='relu'),\n",
    "    tf.keras.layers.Dropout(0.2),\n",
    "    tf.keras.layers.BatchNormalization(axis=1),\n",
    "    tf.keras.layers.Conv2D(filters=64, kernel_size=7, activation='relu'),\n",
    "    tf.keras.layers.MaxPool2D(),\n",
    "    tf.keras.layers.BatchNormalization(axis=1),\n",
    "    tf.keras.layers.Flatten(),\n",
    "    tf.keras.layers.Dense(units=1024, activation='relu'),\n",
    "    tf.keras.layers.Dense(units=1, activation='relu'),\n",
    "])\n",
    "\n",
    "# compiling the model with 'adam' optimizer,\n",
    "# \"mean_squared_error\" loss, and RootMeanSquaredError metric\n",
    "cnn_model.compile(\n",
    "    optimizer='adam',\n",
    "    loss='mean_squared_error',\n",
    "    metrics=[tf.keras.metrics.RootMeanSquaredError()]\n",
    ")"
   ]
  },
  {
   "cell_type": "code",
   "execution_count": 7,
   "metadata": {},
   "outputs": [
    {
     "name": "stdout",
     "output_type": "stream",
     "text": [
      "Epoch 1/100\n"
     ]
    },
    {
     "name": "stderr",
     "output_type": "stream",
     "text": [
      "2024-03-25 10:45:57.145415: I tensorflow/core/grappler/optimizers/custom_graph_optimizer_registry.cc:117] Plugin optimizer for device_type GPU is enabled.\n"
     ]
    },
    {
     "name": "stdout",
     "output_type": "stream",
     "text": [
      "496/496 [==============================] - 17s 29ms/step - loss: 485.3910 - root_mean_squared_error: 22.0316 - val_loss: 428.4449 - val_root_mean_squared_error: 20.6989\n",
      "Epoch 2/100\n",
      "496/496 [==============================] - 8s 16ms/step - loss: 469.6939 - root_mean_squared_error: 21.6724 - val_loss: 433.2006 - val_root_mean_squared_error: 20.8135\n",
      "Epoch 3/100\n",
      "496/496 [==============================] - 8s 15ms/step - loss: 487.0179 - root_mean_squared_error: 22.0685 - val_loss: 450.3403 - val_root_mean_squared_error: 21.2212\n",
      "Epoch 4/100\n",
      "496/496 [==============================] - 8s 15ms/step - loss: 470.9978 - root_mean_squared_error: 21.7025 - val_loss: 407.5622 - val_root_mean_squared_error: 20.1882\n",
      "Epoch 5/100\n",
      "496/496 [==============================] - 8s 15ms/step - loss: 474.9446 - root_mean_squared_error: 21.7932 - val_loss: 406.5799 - val_root_mean_squared_error: 20.1638\n",
      "Epoch 6/100\n",
      "496/496 [==============================] - 8s 15ms/step - loss: 457.9887 - root_mean_squared_error: 21.4007 - val_loss: 423.0067 - val_root_mean_squared_error: 20.5671\n",
      "Epoch 7/100\n",
      "496/496 [==============================] - 8s 15ms/step - loss: 468.7091 - root_mean_squared_error: 21.6497 - val_loss: 404.0945 - val_root_mean_squared_error: 20.1021\n",
      "Epoch 8/100\n",
      "496/496 [==============================] - 8s 15ms/step - loss: 465.6518 - root_mean_squared_error: 21.5790 - val_loss: 446.0435 - val_root_mean_squared_error: 21.1197\n",
      "Epoch 9/100\n",
      "496/496 [==============================] - 7s 15ms/step - loss: 456.4785 - root_mean_squared_error: 21.3654 - val_loss: 416.7919 - val_root_mean_squared_error: 20.4155\n",
      "Epoch 10/100\n",
      "496/496 [==============================] - 8s 15ms/step - loss: 468.1781 - root_mean_squared_error: 21.6374 - val_loss: 439.9337 - val_root_mean_squared_error: 20.9746\n",
      "Epoch 11/100\n",
      "496/496 [==============================] - 8s 15ms/step - loss: 473.8459 - root_mean_squared_error: 21.7680 - val_loss: 404.0406 - val_root_mean_squared_error: 20.1008\n",
      "Epoch 12/100\n",
      "496/496 [==============================] - 8s 15ms/step - loss: 480.8998 - root_mean_squared_error: 21.9294 - val_loss: 444.1425 - val_root_mean_squared_error: 21.0747\n",
      "Epoch 13/100\n",
      "496/496 [==============================] - 8s 16ms/step - loss: 471.3070 - root_mean_squared_error: 21.7096 - val_loss: 441.5707 - val_root_mean_squared_error: 21.0136\n",
      "Epoch 14/100\n",
      "496/496 [==============================] - 8s 16ms/step - loss: 477.2392 - root_mean_squared_error: 21.8458 - val_loss: 437.8401 - val_root_mean_squared_error: 20.9246\n",
      "Epoch 15/100\n",
      "496/496 [==============================] - 8s 16ms/step - loss: 461.0452 - root_mean_squared_error: 21.4720 - val_loss: 433.8305 - val_root_mean_squared_error: 20.8286\n",
      "Epoch 16/100\n",
      "496/496 [==============================] - 8s 16ms/step - loss: 464.4507 - root_mean_squared_error: 21.5511 - val_loss: 424.6360 - val_root_mean_squared_error: 20.6067\n",
      "Epoch 17/100\n",
      "496/496 [==============================] - 8s 16ms/step - loss: 466.9134 - root_mean_squared_error: 21.6082 - val_loss: 417.7731 - val_root_mean_squared_error: 20.4395\n",
      "Epoch 18/100\n",
      "496/496 [==============================] - 8s 17ms/step - loss: 487.1121 - root_mean_squared_error: 22.0706 - val_loss: 421.4376 - val_root_mean_squared_error: 20.5289\n",
      "Epoch 19/100\n",
      "496/496 [==============================] - 8s 16ms/step - loss: 499.2565 - root_mean_squared_error: 22.3440 - val_loss: 528.8336 - val_root_mean_squared_error: 22.9964\n",
      "Epoch 20/100\n",
      "496/496 [==============================] - 8s 16ms/step - loss: 503.2104 - root_mean_squared_error: 22.4324 - val_loss: 501.8145 - val_root_mean_squared_error: 22.4012\n",
      "Epoch 21/100\n",
      "496/496 [==============================] - ETA: 0s - loss: 477.3329 - root_mean_squared_error: 21.8479Restoring model weights from the end of the best epoch: 11.\n",
      "496/496 [==============================] - 8s 17ms/step - loss: 477.3329 - root_mean_squared_error: 21.8479 - val_loss: 452.9984 - val_root_mean_squared_error: 21.2838\n",
      "Epoch 21: early stopping\n"
     ]
    }
   ],
   "source": [
    "# fitting the model with Early Stopping\n",
    "callback = tf.keras.callbacks.EarlyStopping(monitor='val_loss', patience=10, verbose=1, restore_best_weights=True)\n",
    "\n",
    "history = cnn_model.fit(\n",
    "    train_dataset,\n",
    "    batch_size = 16,\n",
    "    validation_data = val_dataset,\n",
    "    epochs=100,\n",
    "    callbacks=[callback]\n",
    ")"
   ]
  },
  {
   "cell_type": "code",
   "execution_count": null,
   "metadata": {},
   "outputs": [],
   "source": []
  },
  {
   "cell_type": "code",
   "execution_count": null,
   "metadata": {},
   "outputs": [],
   "source": []
  },
  {
   "cell_type": "code",
   "execution_count": null,
   "metadata": {},
   "outputs": [],
   "source": []
  },
  {
   "cell_type": "code",
   "execution_count": null,
   "metadata": {},
   "outputs": [],
   "source": []
  },
  {
   "cell_type": "code",
   "execution_count": null,
   "metadata": {},
   "outputs": [],
   "source": []
  },
  {
   "cell_type": "code",
   "execution_count": null,
   "metadata": {},
   "outputs": [],
   "source": []
  },
  {
   "cell_type": "code",
   "execution_count": null,
   "metadata": {},
   "outputs": [],
   "source": []
  }
 ],
 "metadata": {
  "kernelspec": {
   "display_name": "Python 3.10.13 ('ml_course')",
   "language": "python",
   "name": "python3"
  },
  "language_info": {
   "codemirror_mode": {
    "name": "ipython",
    "version": 3
   },
   "file_extension": ".py",
   "mimetype": "text/x-python",
   "name": "python",
   "nbconvert_exporter": "python",
   "pygments_lexer": "ipython3",
   "version": "3.10.13"
  },
  "orig_nbformat": 4,
  "vscode": {
   "interpreter": {
    "hash": "6e504829df0f4f270cad31406f14acd3504c0cc9fbc0566e15931d3ba63c9744"
   }
  }
 },
 "nbformat": 4,
 "nbformat_minor": 2
}
