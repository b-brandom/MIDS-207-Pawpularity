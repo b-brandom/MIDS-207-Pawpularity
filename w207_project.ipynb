{
 "cells": [
  {
   "cell_type": "markdown",
   "id": "6e980891-a6b6-49dc-86d2-57957772f93b",
   "metadata": {},
   "source": [
    "# W207 - Final Project\n",
    "## Scott Abramson, Brett Brandom, Maria Jose Healey, Yidai Yao"
   ]
  },
  {
   "cell_type": "markdown",
   "id": "caeae57e-588d-4956-af59-bc96b68faa4b",
   "metadata": {},
   "source": [
    "### <span style=\"color:chocolate\"> Pawpularity:predicting engagement with a pet's profile based on the photograph for that profile.  </span>"
   ]
  },
  {
   "cell_type": "markdown",
   "id": "7516109a-e2fa-4ac0-85cf-a587fd8b48d0",
   "metadata": {},
   "source": [
    "#### ``Objective``"
   ]
  },
  {
   "cell_type": "markdown",
   "id": "8021acb4-504e-446c-a896-c0c6c8fe91f2",
   "metadata": {},
   "source": [
    "This is based on a kaggle competition. The objective is to score pet photos on a \"Cuteness Meter\" so that pets up for adoption have a higher chance of being adopted."
   ]
  },
  {
   "cell_type": "markdown",
   "id": "bf282587-32cf-4099-97ab-3297f4d23dd0",
   "metadata": {},
   "source": [
    "#### ``Introduction``"
   ]
  },
  {
   "cell_type": "markdown",
   "id": "df1f5748-9198-467f-87de-8f7e4b1e46e5",
   "metadata": {},
   "source": [
    "TBD"
   ]
  },
  {
   "cell_type": "markdown",
   "id": "3c93d571-351a-4e15-9264-4e2390449bad",
   "metadata": {},
   "source": [
    "#### ``Data``"
   ]
  },
  {
   "cell_type": "markdown",
   "id": "ebac5f99-19ff-460a-a905-62f088fb449c",
   "metadata": {},
   "source": [
    "Dataset downloaded from Kaggle competition."
   ]
  },
  {
   "cell_type": "markdown",
   "id": "159f2e6e-1e73-48b3-bdd8-a8fc2d671e09",
   "metadata": {},
   "source": [
    "### Step 1: Import libraries"
   ]
  },
  {
   "cell_type": "code",
   "execution_count": 8,
   "id": "622fad02-ad2b-4be8-8b14-a0e4487a2585",
   "metadata": {},
   "outputs": [],
   "source": [
    "# standard\n",
    "import pandas as pd\n",
    "import numpy as np\n",
    "import random\n",
    "import os\n",
    "\n",
    "# tf and keras\n",
    "import tensorflow as tf\n",
    "from tensorflow.keras.preprocessing.image import ImageDataGenerator, array_to_img, img_to_array, load_img\n",
    "from keras import models\n",
    "from keras import layers\n",
    "\n",
    "# sklearn\n",
    "from sklearn.model_selection import train_test_split\n",
    "\n",
    "# plots\n",
    "import seaborn as sns\n",
    "import matplotlib.pyplot as plt\n",
    "\n",
    "random.seed(2)\n",
    "%matplotlib inline\n",
    "\n",
    "IMAGE_PATH = '/users/scottabramson/MIDS_LOCAL_DATA/pawpularity_data/train/'\n",
    "LABEL_PATH = '/users/scottabramson/MIDS_LOCAL_DATA/pawpularity_data/'"
   ]
  },
  {
   "cell_type": "markdown",
   "id": "bf062df8-0b89-4402-8d48-dd6e9f9f0bea",
   "metadata": {},
   "source": [
    "### Step 2: Read Data"
   ]
  },
  {
   "cell_type": "code",
   "execution_count": 10,
   "id": "2db34136-7880-4c38-9f27-fbbe37a05d85",
   "metadata": {},
   "outputs": [
    {
     "name": "stdout",
     "output_type": "stream",
     "text": [
      "Shape of Meta Data: (9912, 14)\n"
     ]
    },
    {
     "data": {
      "text/html": [
       "<div>\n",
       "<style scoped>\n",
       "    .dataframe tbody tr th:only-of-type {\n",
       "        vertical-align: middle;\n",
       "    }\n",
       "\n",
       "    .dataframe tbody tr th {\n",
       "        vertical-align: top;\n",
       "    }\n",
       "\n",
       "    .dataframe thead th {\n",
       "        text-align: right;\n",
       "    }\n",
       "</style>\n",
       "<table border=\"1\" class=\"dataframe\">\n",
       "  <thead>\n",
       "    <tr style=\"text-align: right;\">\n",
       "      <th></th>\n",
       "      <th>Id</th>\n",
       "      <th>Subject Focus</th>\n",
       "      <th>Eyes</th>\n",
       "      <th>Face</th>\n",
       "      <th>Near</th>\n",
       "      <th>Action</th>\n",
       "      <th>Accessory</th>\n",
       "      <th>Group</th>\n",
       "      <th>Collage</th>\n",
       "      <th>Human</th>\n",
       "      <th>Occlusion</th>\n",
       "      <th>Info</th>\n",
       "      <th>Blur</th>\n",
       "      <th>Pawpularity</th>\n",
       "    </tr>\n",
       "  </thead>\n",
       "  <tbody>\n",
       "    <tr>\n",
       "      <th>0</th>\n",
       "      <td>0007de18844b0dbbb5e1f607da0606e0</td>\n",
       "      <td>0</td>\n",
       "      <td>1</td>\n",
       "      <td>1</td>\n",
       "      <td>1</td>\n",
       "      <td>0</td>\n",
       "      <td>0</td>\n",
       "      <td>1</td>\n",
       "      <td>0</td>\n",
       "      <td>0</td>\n",
       "      <td>0</td>\n",
       "      <td>0</td>\n",
       "      <td>0</td>\n",
       "      <td>63</td>\n",
       "    </tr>\n",
       "    <tr>\n",
       "      <th>1</th>\n",
       "      <td>0009c66b9439883ba2750fb825e1d7db</td>\n",
       "      <td>0</td>\n",
       "      <td>1</td>\n",
       "      <td>1</td>\n",
       "      <td>0</td>\n",
       "      <td>0</td>\n",
       "      <td>0</td>\n",
       "      <td>0</td>\n",
       "      <td>0</td>\n",
       "      <td>0</td>\n",
       "      <td>0</td>\n",
       "      <td>0</td>\n",
       "      <td>0</td>\n",
       "      <td>42</td>\n",
       "    </tr>\n",
       "    <tr>\n",
       "      <th>2</th>\n",
       "      <td>0013fd999caf9a3efe1352ca1b0d937e</td>\n",
       "      <td>0</td>\n",
       "      <td>1</td>\n",
       "      <td>1</td>\n",
       "      <td>1</td>\n",
       "      <td>0</td>\n",
       "      <td>0</td>\n",
       "      <td>0</td>\n",
       "      <td>0</td>\n",
       "      <td>1</td>\n",
       "      <td>1</td>\n",
       "      <td>0</td>\n",
       "      <td>0</td>\n",
       "      <td>28</td>\n",
       "    </tr>\n",
       "    <tr>\n",
       "      <th>3</th>\n",
       "      <td>0018df346ac9c1d8413cfcc888ca8246</td>\n",
       "      <td>0</td>\n",
       "      <td>1</td>\n",
       "      <td>1</td>\n",
       "      <td>1</td>\n",
       "      <td>0</td>\n",
       "      <td>0</td>\n",
       "      <td>0</td>\n",
       "      <td>0</td>\n",
       "      <td>0</td>\n",
       "      <td>0</td>\n",
       "      <td>0</td>\n",
       "      <td>0</td>\n",
       "      <td>15</td>\n",
       "    </tr>\n",
       "    <tr>\n",
       "      <th>4</th>\n",
       "      <td>001dc955e10590d3ca4673f034feeef2</td>\n",
       "      <td>0</td>\n",
       "      <td>0</td>\n",
       "      <td>0</td>\n",
       "      <td>1</td>\n",
       "      <td>0</td>\n",
       "      <td>0</td>\n",
       "      <td>1</td>\n",
       "      <td>0</td>\n",
       "      <td>0</td>\n",
       "      <td>0</td>\n",
       "      <td>0</td>\n",
       "      <td>0</td>\n",
       "      <td>72</td>\n",
       "    </tr>\n",
       "  </tbody>\n",
       "</table>\n",
       "</div>"
      ],
      "text/plain": [
       "                                 Id  Subject Focus  Eyes  Face  Near  Action  \\\n",
       "0  0007de18844b0dbbb5e1f607da0606e0              0     1     1     1       0   \n",
       "1  0009c66b9439883ba2750fb825e1d7db              0     1     1     0       0   \n",
       "2  0013fd999caf9a3efe1352ca1b0d937e              0     1     1     1       0   \n",
       "3  0018df346ac9c1d8413cfcc888ca8246              0     1     1     1       0   \n",
       "4  001dc955e10590d3ca4673f034feeef2              0     0     0     1       0   \n",
       "\n",
       "   Accessory  Group  Collage  Human  Occlusion  Info  Blur  Pawpularity  \n",
       "0          0      1        0      0          0     0     0           63  \n",
       "1          0      0        0      0          0     0     0           42  \n",
       "2          0      0        0      1          1     0     0           28  \n",
       "3          0      0        0      0          0     0     0           15  \n",
       "4          0      1        0      0          0     0     0           72  "
      ]
     },
     "execution_count": 10,
     "metadata": {},
     "output_type": "execute_result"
    }
   ],
   "source": [
    "# read meta_data\n",
    "meta_data = pd.read_csv(\n",
    "    LABEL_PATH + 'train.csv'\n",
    ")\n",
    "\n",
    "print('Shape of Meta Data:', meta_data.shape)\n",
    "meta_data.head()"
   ]
  },
  {
   "cell_type": "code",
   "execution_count": 18,
   "id": "8b8d6356-983f-471d-978f-14e3979767a8",
   "metadata": {},
   "outputs": [
    {
     "data": {
      "text/plain": [
       "count    9912.000000\n",
       "mean       38.039044\n",
       "std        20.591990\n",
       "min         1.000000\n",
       "25%        25.000000\n",
       "50%        33.000000\n",
       "75%        46.000000\n",
       "max       100.000000\n",
       "Name: Pawpularity, dtype: float64"
      ]
     },
     "execution_count": 18,
     "metadata": {},
     "output_type": "execute_result"
    },
    {
     "data": {
      "image/png": "[encoded data removed]",
      "text/plain": [
       "<Figure size 640x480 with 1 Axes>"
      ]
     },
     "metadata": {},
     "output_type": "display_data"
    }
   ],
   "source": [
    "# Look at the distribution of labels from 0 - 100\n",
    "meta_data['Pawpularity'].hist()\n",
    "meta_data['Pawpularity'].describe()\n",
    "\n"
   ]
  },
  {
   "cell_type": "code",
   "execution_count": 19,
   "id": "dcccf4de-7822-4d04-909d-bf3d8cb85ab7",
   "metadata": {},
   "outputs": [
    {
     "data": {
      "text/plain": [
       "Pawpularity\n",
       "99      4\n",
       "1       4\n",
       "90      7\n",
       "97      8\n",
       "98     10\n",
       "     ... \n",
       "29    304\n",
       "31    312\n",
       "26    316\n",
       "30    318\n",
       "28    318\n",
       "Name: count, Length: 100, dtype: int64"
      ]
     },
     "execution_count": 19,
     "metadata": {},
     "output_type": "execute_result"
    }
   ],
   "source": [
    "meta_data['Pawpularity'].value_counts().sort_values()"
   ]
  },
  {
   "cell_type": "code",
   "execution_count": 20,
   "id": "bee0a25c-b332-4e72-8285-133627120f8d",
   "metadata": {},
   "outputs": [
    {
     "name": "stdout",
     "output_type": "stream",
     "text": [
      "Count of Pawpularity Scores of 1:  4\n",
      "Count of Pawpularity Scores of 1:  288\n"
     ]
    }
   ],
   "source": [
    "# Check the ends of the distribution\n",
    "print(\"Count of Pawpularity Scores of 1: \",meta_data['Pawpularity'].value_counts()[1])\n",
    "print(\"Count of Pawpularity Scores of 1: \",meta_data['Pawpularity'].value_counts()[100])"
   ]
  },
  {
   "cell_type": "code",
   "execution_count": 21,
   "id": "99910af6-f627-4a7c-8798-fa338142caa7",
   "metadata": {},
   "outputs": [
    {
     "name": "stdout",
     "output_type": "stream",
     "text": [
      "Distribution of Meta Data Sums per Image\n",
      " Meta_Sum\n",
      "3    4763\n",
      "4    1718\n",
      "2    1319\n",
      "5    1130\n",
      "1     656\n",
      "6     197\n",
      "0      76\n",
      "7      48\n",
      "8       5\n",
      "Name: count, dtype: int64\n",
      "Meta Sum : 0 Count : 76 Pawpularity Sum : 2465 Average : 32.43421052631579\n",
      "Meta Sum : 1 Count : 656 Pawpularity Sum : 25040 Average : 38.170731707317074\n",
      "Meta Sum : 2 Count : 1319 Pawpularity Sum : 49651 Average : 37.642911296436694\n",
      "Meta Sum : 3 Count : 4763 Pawpularity Sum : 181592 Average : 38.12555112324166\n",
      "Meta Sum : 4 Count : 1718 Pawpularity Sum : 65965 Average : 38.39639115250291\n",
      "Meta Sum : 5 Count : 1130 Pawpularity Sum : 42760 Average : 37.84070796460177\n",
      "Meta Sum : 6 Count : 197 Pawpularity Sum : 7454 Average : 37.83756345177665\n",
      "Meta Sum : 7 Count : 48 Pawpularity Sum : 1937 Average : 40.354166666666664\n"
     ]
    }
   ],
   "source": [
    "# Evaluate the distribution of meta data values for all images\n",
    "label_metadata = meta_data\n",
    "label_metadata['Meta_Sum'] = label_metadata.iloc[:, -12:-2].sum(axis=1)\n",
    "label_metadata.sort_values(by='Meta_Sum')\n",
    "print(\"Distribution of Meta Data Sums per Image\\n\",label_metadata['Meta_Sum'].value_counts())\n",
    "label_metadata.head()\n",
    "\n",
    "totals = []\n",
    "counts = []\n",
    "for i in range(8) :\n",
    "    totals.append(label_metadata.loc[label_metadata['Meta_Sum'] == i, 'Pawpularity'].sum())\n",
    "    counts.append(label_metadata['Meta_Sum'].value_counts()[i])\n",
    "    print(\"Meta Sum :\", i, \"Count :\", counts[i], \"Pawpularity Sum :\", totals[i], \"Average :\", totals[i]/counts[i])\n",
    "\n"
   ]
  },
  {
   "cell_type": "markdown",
   "id": "e4a542f1-faa3-4391-a4ac-df020d0b4bd7",
   "metadata": {},
   "source": [
    "### Step 3: EDA"
   ]
  },
  {
   "cell_type": "markdown",
   "id": "697bf36e-b69f-4b80-b86a-75f260163411",
   "metadata": {},
   "source": [
    "### EDA\n",
    "\n",
    "It's pretty clear that there will be variance in the size, orientation and possibly the resolution of the photos."
   ]
  },
  {
   "cell_type": "markdown",
   "id": "3a306f9a-99b2-4706-9b57-7ecbeed854f9",
   "metadata": {},
   "source": [
    "### Step 4: Preprocess Data"
   ]
  },
  {
   "cell_type": "code",
   "execution_count": 24,
   "id": "9bc426ef-016a-4c32-b9a1-31898b740d23",
   "metadata": {},
   "outputs": [
    {
     "data": {
      "text/plain": [
       "<_BatchDataset element_spec=(TensorSpec(shape=(None, 448, 224, 3), dtype=tf.float32, name=None), TensorSpec(shape=(None, 2), dtype=tf.float64, name=None))>"
      ]
     },
     "execution_count": 24,
     "metadata": {},
     "output_type": "execute_result"
    }
   ],
   "source": [
    "def prepare_data(image_path, label_path) :\n",
    "\n",
    "    train_images = os.listdir(image_path)\n",
    "    train_df = pd.read_csv(label_path + 'train.csv')\n",
    "\n",
    "    train_df = train_df.set_index('Id')\n",
    "    file_names = []\n",
    "    labels = []\n",
    "\n",
    "    for index in train_df.index:\n",
    "        file_name = image_path + index + '.jpg'\n",
    "        label = train_df.loc[index]['Pawpularity']\n",
    "        file_names.append(file_name)\n",
    "        labels.append(label/1.0)\n",
    "\n",
    "    # Use sklearn function to split data\n",
    "    train_files, val_files, labels_train, labels_val = train_test_split(file_names, labels, test_size=0.2, random_state=137)\n",
    "    \n",
    "    return train_files, val_files, labels_train, labels_val\n",
    "\n",
    "def process_file_names(file_name, label):\n",
    "    image_string = tf.io.read_file(file_name)\n",
    "    img = tf.io.decode_jpeg(image_string, channels=3)\n",
    "    img = tf.image.resize(img, [224,224])\n",
    "   \n",
    "    # TO DO: image augmentation\n",
    "    # Adjust Brightness to a copy of the images\n",
    "    img_augm = tf.image.adjust_brightness(img, delta=3)\n",
    "\n",
    "    # adjust contrast to the copy\n",
    "    img_augm = tf.image.adjust_contrast(img_augm, contrast_factor=3)\n",
    "\n",
    "    # random flip the copy\n",
    "    img_augm = tf.image.random_flip_left_right(img_augm)\n",
    "    \n",
    "    # Concatenate the augmented images with the original images\n",
    "    # Keep the labels the same\n",
    "    img = tf.concat([img, img_augm], axis=0)\n",
    "    label_augm = label\n",
    "    label = tf.stack([label, label_augm], axis=0)\n",
    "\n",
    "    # rescale labels so between 0 and 1\n",
    "    return img, label/100.01\n",
    "\n",
    "train_files, val_files, labels_train, labels_val = prepare_data(IMAGE_PATH, LABEL_PATH)\n",
    "\n",
    "train_dataset = tf.data.Dataset.from_tensor_slices((train_files, labels_train))\n",
    "train_dataset = train_dataset.map(process_file_names)\n",
    "val_dataset = tf.data.Dataset.from_tensor_slices((val_files, labels_val))\n",
    "val_dataset = val_dataset.map(process_file_names)\n",
    "\n",
    "\n",
    "def configure_for_performance(ds):\n",
    "    ds = ds.cache()\n",
    "    ds = ds.shuffle(buffer_size=1000)\n",
    "    ds = ds.batch(32)\n",
    "    return ds\n",
    "\n",
    "train_dataset = configure_for_performance(train_dataset)\n",
    "val_dataset = configure_for_performance(val_dataset)\n",
    "train_dataset\n",
    "\n"
   ]
  },
  {
   "cell_type": "markdown",
   "id": "3cf9ebc1-c0b1-4e92-8acc-1a1ee2596595",
   "metadata": {},
   "source": [
    "### Preprocessing Data\n",
    "\n",
    "I'm going to assume we perform normalization in the EDA step for now.  Also assuming images coming into the preprocessing layer should all have a similar shape and quality for now.\n",
    "\n",
    "This section for now is going to focus on various augmentation approaches.\n",
    "\n",
    "I'm going to start with the HW10 helper code as a baseline.\n"
   ]
  },
  {
   "cell_type": "markdown",
   "id": "208ca0f9-88d1-437a-b071-0652f05c4e66",
   "metadata": {},
   "source": [
    "### Step 5: Modeling and Evaluation"
   ]
  },
  {
   "cell_type": "markdown",
   "id": "7c7dd00e-7cdf-44ef-9532-ca1bdb41820a",
   "metadata": {},
   "source": [
    "### <span style=\"color:chocolate\"> Baseline Model  </span>"
   ]
  },
  {
   "cell_type": "code",
   "execution_count": null,
   "id": "37e222d9-ee67-46fa-b645-9de86053f607",
   "metadata": {},
   "outputs": [],
   "source": []
  },
  {
   "cell_type": "markdown",
   "id": "6638df8b-80bd-43d3-956f-2311a1869128",
   "metadata": {},
   "source": [
    "### <span style=\"color:chocolate\"> Improvement on Baseline Model  </span>"
   ]
  },
  {
   "cell_type": "code",
   "execution_count": null,
   "id": "3ae9793e-15a0-466e-8a6e-043183942ecb",
   "metadata": {},
   "outputs": [],
   "source": []
  },
  {
   "cell_type": "markdown",
   "id": "cb9f367f-b073-4385-bcab-815d4164bd49",
   "metadata": {},
   "source": [
    "### Step 6: Conclusion"
   ]
  },
  {
   "cell_type": "markdown",
   "id": "376a24d1-9483-4f91-970a-57ac8b284c19",
   "metadata": {},
   "source": [
    "TBD"
   ]
  },
  {
   "cell_type": "code",
   "execution_count": null,
   "id": "a8694cdd-d8f1-4f9a-a671-86cafe92e4e6",
   "metadata": {},
   "outputs": [],
   "source": []
  }
 ],
 "metadata": {
  "kernelspec": {
   "display_name": "Python 3 (ipykernel)",
   "language": "python",
   "name": "python3"
  },
  "language_info": {
   "codemirror_mode": {
    "name": "ipython",
    "version": 3
   },
   "file_extension": ".py",
   "mimetype": "text/x-python",
   "name": "python",
   "nbconvert_exporter": "python",
   "pygments_lexer": "ipython3",
   "version": "3.11.5"
  }
 },
 "nbformat": 4,
 "nbformat_minor": 5
}
